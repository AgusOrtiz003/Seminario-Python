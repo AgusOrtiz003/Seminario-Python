{
 "cells": [
  {
   "cell_type": "markdown",
   "metadata": {},
   "source": [
    "# Desafío 1\n",
    "> Escribir un programa que ingrese 4 palabras desde el teclado e imprima si contiene \"R\" o no según corresponda."
   ]
  },
  {
   "cell_type": "code",
   "execution_count": 4,
   "metadata": {
    "slideshow": {
     "slide_type": "fragment"
    }
   },
   "outputs": [
    {
     "name": "stdout",
     "output_type": "stream",
     "text": [
      "Tiene R\n",
      "No tiene R\n",
      "No tiene R\n",
      "Tiene R\n"
     ]
    }
   ],
   "source": [
    "for i in range(4):\n",
    "    word=str(input(\"Ingrese una palabra\"))\n",
    "    print(\"Tiene R\") if (\"r\" in word.lower()) else print(\"No tiene R\")"
   ]
  },
  {
   "cell_type": "markdown",
   "metadata": {},
   "source": [
    "# DESAFÍO 2\n",
    "\n",
    "> Ingresar palabras desde el teclado hasta ingresar la palabra FIN. Imprimir aquellas que empiecen  y terminen con la misma letra. "
   ]
  },
  {
   "cell_type": "code",
   "execution_count": 9,
   "metadata": {},
   "outputs": [
    {
     "name": "stdout",
     "output_type": "stream",
     "text": [
      "pitop\n"
     ]
    }
   ],
   "source": [
    "word=str(input(\"Ingrese una palabra)\"))\n",
    "while (word.upper()!=\"FIN\"):\n",
    "    if (word[0]==word[len(word)-1]): print(word)\n",
    "    word=str(input(\"Ingrese una palabra\"))"
   ]
  },
  {
   "cell_type": "markdown",
   "metadata": {},
   "source": [
    "# Retomamos el DESAFIO 3 de las películas\n",
    "Nuestro desafío era:\n",
    "\n",
    "> Queremos procesar las duraciones de las películas argentinas candidatas al premio Oscar a película extrajera. \n",
    "\n",
    "Queremos saber:\n",
    "- ¿Cuál fue la duración promedio, en minutos?\n",
    "- ¿Cuántas películas duran más que el promedio, en minutos?\n"
   ]
  },
  {
   "cell_type": "code",
   "execution_count": null,
   "metadata": {},
   "outputs": [
    {
     "name": "stdout",
     "output_type": "stream",
     "text": [
      "{'cars': 2, 'bichos': 6}\n",
      "La duracion promedio es de 4.0 minutos\n"
     ]
    }
   ],
   "source": [
    "movies={}\n",
    "prom=0\n",
    "mayorqueprom=0\n",
    "nom=str((input(\"Ingrese el nombre de la pelicula\")))\n",
    "while(nom.upper()!=\"FIN\"):\n",
    "    duracion=int(input(\"Ingrese la duracion de la pelicula\"))\n",
    "    movies[nom]=duracion\n",
    "    prom+=duracion\n",
    "    nom=str(input(\"Ingrese el nombre de la pelicula\"))\n",
    "print(movies)\n",
    "prom/=len(movies)\n",
    "for key in movies:\n",
    "    if(movies[key]>prom): mayorqueprom+=1\n",
    "print(f\"La duracion promedio es de {prom} minutos\")\n",
    "print(f\"Hubo {mayorqueprom} películas con duraciones mayores al promedio\")"
   ]
  }
 ],
 "metadata": {
  "kernelspec": {
   "display_name": "venv",
   "language": "python",
   "name": "python3"
  },
  "language_info": {
   "codemirror_mode": {
    "name": "ipython",
    "version": 3
   },
   "file_extension": ".py",
   "mimetype": "text/x-python",
   "name": "python",
   "nbconvert_exporter": "python",
   "pygments_lexer": "ipython3",
   "version": "3.12.9"
  }
 },
 "nbformat": 4,
 "nbformat_minor": 2
}
