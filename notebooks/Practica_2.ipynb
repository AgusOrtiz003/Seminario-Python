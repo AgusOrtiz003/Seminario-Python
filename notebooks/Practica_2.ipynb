{
 "cells": [
  {
   "cell_type": "code",
   "execution_count": null,
   "metadata": {},
   "outputs": [],
   "source": [
    "import sys\n",
    "sys.path.append(\"../Practica_2/src\")"
   ]
  },
  {
   "cell_type": "markdown",
   "metadata": {},
   "source": [
    "# 1. Análisis del Zen de Python\n",
    "Copie el texto del Zen de Python en una variable e imprima todas las líneas cuya segunda palabra comience con una vocal (A, E, I, O, U, a, e, i, o, u)."
   ]
  },
  {
   "cell_type": "code",
   "execution_count": null,
   "metadata": {},
   "outputs": [
    {
     "name": "stdout",
     "output_type": "stream",
     "text": [
      "Beautiful is better than ugly.\n",
      "Explicit is better than implicit.\n",
      "Simple is better than complex.\n",
      "Complex is better than complicated.\n",
      "Flat is better than nested.\n",
      "Sparse is better than dense.\n",
      "Unless explicitly silenced.\n",
      "Now is better than never.\n",
      "Namespaces are one honking great idea -- let's do more of those!\n"
     ]
    }
   ],
   "source": [
    "import p1p1\n",
    "vocales=(\"a\",\"e\",\"i\",\"o\",\"u\")\n",
    "zen=\"\"\"Beautiful is better than ugly.\n",
    "Explicit is better than implicit.\n",
    "Simple is better than complex.\n",
    "Complex is better than complicated.\n",
    "Flat is better than nested.\n",
    "Sparse is better than dense.\n",
    "Readability counts.\n",
    "Special cases aren't special enough to break the rules.\n",
    "Although practicality beats purity.\n",
    "Errors should never pass silently.\n",
    "Unless explicitly silenced.\n",
    "In the face of ambiguity, refuse the temptation to guess.\n",
    "There should be one-- and preferably only one --obvious way to do it.\n",
    "Although that way may not be obvious at first unless you're Dutch.\n",
    "Now is better than never.\n",
    "Although never is often better than *right* now.\n",
    "If the implementation is hard to explain, it's a bad idea.\n",
    "If the implementation is easy to explain, it may be a good idea.\n",
    "Namespaces are one honking great idea -- let's do more of those!\"\"\"\n",
    "l=zen.split(\"\\n\")\n",
    "for elem in l: \n",
    "    aux=elem.split()\n",
    "    if(aux[1].lower().startswith(vocales)):\n",
    "        print (elem)"
   ]
  },
  {
   "cell_type": "markdown",
   "metadata": {},
   "source": [
    "# 2. Título más largo\n",
    "Dado un listado de títulos de streams en Twitch, encuentre el título con más palabras y muéstrelo en pantalla."
   ]
  },
  {
   "cell_type": "code",
   "execution_count": null,
   "metadata": {},
   "outputs": [
    {
     "name": "stdout",
     "output_type": "stream",
     "text": [
      "Jugando al nuevo FPS del momento con amigos\n"
     ]
    }
   ],
   "source": [
    "titles = [\n",
    "\"Speedrun de Super Mario en tiempo récord\",\n",
    "\"Charla sobre desarrollo de videojuegos\",\n",
    "\"Jugando al nuevo FPS del momento con amigos\",\n",
    "\"Música en vivo: improvisaciones al piano\"\n",
    "]\n",
    "maxpalabras=-1\n",
    "maxcadena=\"\"\n",
    "for cadena in titles:\n",
    "    cantpalabras=len(cadena.strip())\n",
    "    if cantpalabras>maxpalabras:\n",
    "        maxpalabras=cantpalabras\n",
    "        maxcadena=cadena\n",
    "print(maxcadena)"
   ]
  },
  {
   "cell_type": "markdown",
   "metadata": {},
   "source": [
    "# 3. Código de conducta\n",
    "Dado un código de conducta para un servidor de Discord, solicite una palabra clave al usuario e imprima todas las reglas que la contengan."
   ]
  },
  {
   "cell_type": "code",
   "execution_count": 1,
   "metadata": {},
   "outputs": [
    {
     "name": "stdout",
     "output_type": "stream",
     "text": [
      "No compartas información personal.\n"
     ]
    }
   ],
   "source": [
    "rules = \"\"\"Respeta a los demás. No se permiten insultos ni lenguaje\n",
    "ofensivo.\n",
    "Evita el spam. No publiques enlaces sospechosos o repetitivos.\n",
    "No compartas información personal.\n",
    "Usa los canales adecuados para cada tema.\n",
    "Sigue las instrucciones de los moderadores.\"\"\"\n",
    "word=input(\"Ingrese una palabra clave\")\n",
    "for regla in rules.split(\"\\n\"):\n",
    "    if word in regla:\n",
    "        print(regla)"
   ]
  },
  {
   "cell_type": "markdown",
   "metadata": {},
   "source": [
    "# 4. Validación de nombre de usuario\n",
    "Valide un nombre de usuario con los siguientes criterios:\n",
    "1. Al menos 5 caracteres.\n",
    "2. Contiene al menos un número.\n",
    "3. Contiene al menos una letra mayúscula.\n",
    "4. Solo puede contener letras y números."
   ]
  },
  {
   "cell_type": "code",
   "execution_count": null,
   "metadata": {},
   "outputs": [
    {
     "name": "stdout",
     "output_type": "stream",
     "text": [
      "El nombre de usuario no es válido\n"
     ]
    }
   ],
   "source": [
    "#IMPORTÁ STRING, HACELO DE VUELTA\n",
    "Invalido=\"El nombre de usuario no es válido\"\n",
    "name=str(input(\"Ingrese un nombre de usuario\"))\n",
    "if(len(name)>=5):\n",
    "    hayMayus=False\n",
    "    hayNum=False\n",
    "    cumple=True\n",
    "    for char in name:\n",
    "        if (char.isdigit()):\n",
    "            hayNum=True\n",
    "        elif(char.isupper()):\n",
    "            hayMayus=True\n",
    "        elif(char.islower()):\n",
    "            continue\n",
    "        else:\n",
    "            print(Invalido)\n",
    "            cumple=False\n",
    "            break\n",
    "    if(cumple and hayMayus and hayNum):\n",
    "        print(\"El nombre de usuario es válido\")\n",
    "    else:\n",
    "        print(Invalido)\n",
    "else:\n",
    "    print(Invalido)\n"
   ]
  },
  {
   "cell_type": "markdown",
   "metadata": {},
   "source": [
    "# 5. Clasificación de velocidad de reacción en un juego\n",
    "Dado el tiempo de reacción de un jugador en milisegundos, clasifíquelo en las siguientes categorías:\n",
    "* Menos de 200 ms: Rápido\n",
    "* Entre 200 y 500 ms: Normal\n",
    "* Más de 500 ms: Lento"
   ]
  },
  {
   "cell_type": "code",
   "execution_count": 11,
   "metadata": {},
   "outputs": [
    {
     "name": "stdout",
     "output_type": "stream",
     "text": [
      "Lento\n"
     ]
    }
   ],
   "source": [
    "react=int(input(\"Ingrese su velocidad de reacción\"))\n",
    "if(react<200):\n",
    "    print(\"Categoría: Rápido\")\n",
    "elif(react<500):\n",
    "    print(\"Categoría: Normal\")\n",
    "else:\n",
    "    print(\"Lento\")"
   ]
  },
  {
   "cell_type": "markdown",
   "metadata": {},
   "source": [
    " # 6. Análisis de descripciones de una plataforma de stream\n",
    " Dadas varias descripciones de streams en Twitch, cuente cuántas menciones hay de \"entretenimiento\", \"música\" y \"charla\"."
   ]
  },
  {
   "cell_type": "code",
   "execution_count": 11,
   "metadata": {},
   "outputs": [],
   "source": [
    "def procesarCadena(menciones,l):\n",
    "    music=0\n",
    "    charla=0\n",
    "    ent=0\n",
    "    for palabra in l:\n",
    "        if(palabra==\"música\"):\n",
    "            menciones['música']+=1\n",
    "        elif(palabra==\"charla\"):\n",
    "            menciones['charla']+=1\n",
    "        elif(palabra==\"entretenimiento\"):\n",
    "            menciones['entretenimiento']+=1\n",
    "    return(menciones)"
   ]
  },
  {
   "cell_type": "code",
   "execution_count": 13,
   "metadata": {},
   "outputs": [
    {
     "name": "stdout",
     "output_type": "stream",
     "text": [
      "Menciones de 'música': 4\n",
      "Menciones de 'charla': 2\n",
      "Menciones de 'Entretenimiento': 1\n"
     ]
    }
   ],
   "source": [
    "descriptions = [\n",
    " \"Streaming de música en vivo con covers y composiciones\",\n",
    " \"Charla interactiva con la audiencia sobre series y películas\",\n",
    " \"Jugamos a juegos retro y charlamos sobre su historia\",\n",
    " \"Exploramos la mejor música de los 80s y 90s\",\n",
    " \"Programa de entretenimiento con noticias y curiosidades del mundo gamer\",\n",
    " \"Sesión de charla con invitados especiales del mundo del streaming\",\n",
    " \"Música en directo con improvisaciones y peticiones del chat\",\n",
    " \"Un espacio para charlar relajada sobre tecnología y cultura digital\",\n",
    " \"Exploramos el impacto de la música en los videojuegos clásicos\"\n",
    " ]\n",
    "menciones={\"música\":0,\"charla\":0,\"entretenimiento\":0}\n",
    "for cadena in descriptions:\n",
    "    procesarCadena(menciones,cadena.lower().split())\n",
    "print(f\"Menciones de 'música': {menciones['música']}\")\n",
    "print(f\"Menciones de 'charla': {menciones['charla']}\")\n",
    "print(f\"Menciones de 'Entretenimiento': {menciones['entretenimiento']}\")"
   ]
  },
  {
   "cell_type": "markdown",
   "metadata": {},
   "source": [
    " # 7. Generador de códigos de descuento\n",
    " Genere un código de descuento aleatorio para un usuario en base a su nombre, la fecha actual y el resto deben ser números o letras aleatorias.\n",
    " - El código debe tener una longitud de 30 caracteres, todas las letras deben ser mayúsculas.\n",
    " - El usuario debe ingresarse por teclado y debe validar que no exeda los 15 caracteres."
   ]
  },
  {
   "cell_type": "code",
   "execution_count": null,
   "metadata": {},
   "outputs": [],
   "source": [
    "def adjuntar(cadena,secuencia):\n",
    "    if type(secuencia)==dict:\n",
    "        for key in secuencia:\n",
    "            cadena+=str(secuencia[key])\n",
    "    else:\n",
    "        for elem in secuencia:\n",
    "            cadena+=elem\n",
    "    return cadena"
   ]
  },
  {
   "cell_type": "code",
   "execution_count": 110,
   "metadata": {},
   "outputs": [],
   "source": [
    "import random\n",
    "import string\n",
    "def generarCodigo(nom,fecha):\n",
    "    code=nom\n",
    "    code+='-'\n",
    "    code=adjuntar(code,fecha)\n",
    "    code+='-'\n",
    "    code=adjuntar(code,random.choices((string.ascii_uppercase+string.digits),k=(30-len(code))))\n",
    "    return code"
   ]
  },
  {
   "cell_type": "code",
   "execution_count": 111,
   "metadata": {},
   "outputs": [
    {
     "name": "stdout",
     "output_type": "stream",
     "text": [
      "ADO-1542025-KT3M4R9GNUIHF19G89\n"
     ]
    }
   ],
   "source": [
    "name=\"aaaaaaaaaaaaaaaa\"\n",
    "fecha={}\n",
    "while(len(name)>15):\n",
    "    name=input(\"Ingrese su usuario\")\n",
    "fecha['dia']=int(input(\"Ingrese el número de dia de hoy\"))\n",
    "fecha['mes']=int(input(\"Ingrese el mes actual\"))\n",
    "fecha['año']=int(input(\"Ingrese el año actual\"))\n",
    "code=generarCodigo(name.upper(),fecha)\n",
    "print(code)"
   ]
  },
  {
   "cell_type": "markdown",
   "metadata": {},
   "source": [
    "# 8. Identificación de anagramas\n",
    "Determine si dos palabras ingresadas son anagramas (contienen las mismas letras en diferente orden)."
   ]
  },
  {
   "cell_type": "code",
   "execution_count": 112,
   "metadata": {},
   "outputs": [],
   "source": [
    "def compararPalabras(word1,word2):\n",
    "    conj1=set()\n",
    "    conj2=set()\n",
    "    for char in word1:\n",
    "        conj1.add(char)\n",
    "    for char in word2:\n",
    "        conj2.add(char)\n",
    "    return(conj1==conj2)"
   ]
  },
  {
   "cell_type": "code",
   "execution_count": 115,
   "metadata": {},
   "outputs": [
    {
     "name": "stdout",
     "output_type": "stream",
     "text": [
      "No son anagramas\n"
     ]
    }
   ],
   "source": [
    "word1=input(\"Ingrese una palabra\")\n",
    "word2=input(\"Ingrese otra palabra\")\n",
    "if(compararPalabras(word1.lower(),word2.lower())):\n",
    "    print(\"Son anagramas\")\n",
    "else:\n",
    "    print(\"No son anagramas\")"
   ]
  },
  {
   "cell_type": "markdown",
   "metadata": {},
   "source": [
    "# 9. Limpieza de Datos para un Sistema de Clientes\n",
    "* Eres un analista de datos en una empresa que ha recibido una lista de nombres de clientes de distintas fuentes.\n",
    "* Sin embargo, estos datos contienen errores, espacios en blanco, nombres repetidos y valores nulos.\n",
    "* Tu tarea es desarrollar un sistema que limpie y estandarice estos datos para poder usarlos en el sistema de facturación realizando las siguientes operaciones:\n",
    "* Eliminar espacios extra en los nombres.\n",
    "* Convertir todos los nombres a formato de título (primera letra en mayúscula y el resto en minúscula).\n",
    "* Eliminar registros duplicados para evitar clientes repetidos.\n",
    "* Eliminar valores vacíos o nulos, ya que no aportan información válida.\n",
    "* Mostrar la lista limpia de clientes listos para usar en el sistema de facturación."
   ]
  },
  {
   "cell_type": "code",
   "execution_count": null,
   "metadata": {},
   "outputs": [],
   "source": [
    "def quitarInvalidos(l):\n",
    "    import string\n",
    "    letras=set(string.ascii_letters)\n",
    "    for elem in l:\n",
    "        if (elem==None) or (letras.issuperset(elem.strip())): #NO ME BORRA EL ULTIMOOOO\n",
    "            print(f\"Voy a borrar {elem} por None\") if (elem==None) else print(f\"Voy a borrar {elem} por no tener letras\")\n",
    "            l.remove(elem)\n",
    "    "
   ]
  },
  {
   "cell_type": "code",
   "execution_count": null,
   "metadata": {},
   "outputs": [],
   "source": [
    "def quitarEspacios(cadena):\n",
    "    while(cadena.startswith(' ')):\n",
    "        cadena=cadena[1:]\n",
    "    while(cadena.endswith(' ')):\n",
    "        cadena=cadena[:-1]\n",
    "    return cadena    "
   ]
  },
  {
   "cell_type": "code",
   "execution_count": null,
   "metadata": {},
   "outputs": [],
   "source": [
    "def estandarizar (lista):\n",
    "    aux=set()\n",
    "    quitarInvalidos(lista)\n",
    "    for i,elem in enumerate(lista):\n",
    "      lista[i]=quitarEspacios(lista[i])\n",
    "      lista[i]=lista[i].title()\n",
    "      aux.add(lista[i])\n",
    "    return sorted(list(aux)-{''})\n",
    "      "
   ]
  },
  {
   "cell_type": "code",
   "execution_count": 92,
   "metadata": {},
   "outputs": [
    {
     "name": "stdout",
     "output_type": "stream",
     "text": [
      "Voy a borrar  por no tener letras\n",
      "Voy a borrar None por None\n",
      "Voy a borrar    por no tener letras\n",
      "Voy a borrar None por None\n",
      "Voy a borrar None por None\n",
      "Voy a borrar    por no tener letras\n",
      "['Alejandro González', 'Ana López', 'Andrés Ocampo', 'Carlos Mendes', 'Claudia Torres', 'Damián Castillo', 'Gabriela Ruíz', 'Juan Pérez', 'Laura Ramos', 'Luis Rodríguez', 'Maria Martínez', 'Marta Suárez', 'María Martínez', 'Miguel Ángel', 'Monica Herrera', 'Patricia Vega', 'Pedro Gómez', 'Ricardo Fernández', 'Sandra Morales']\n",
      "['', 'Alejandro González', 'Alejandro González', 'Ana López', 'Ana López', 'Andrés Ocampo', 'Andrés Ocampo', 'Carlos Mendes', 'Carlos Mendes', 'Claudia Torres', 'Claudia Torres', 'Damián Castillo', 'Damián Castillo', 'Gabriela Ruíz', 'Gabriela Ruíz', 'Juan Pérez', 'Juan Pérez', 'Laura Ramos', 'Laura Ramos', 'Luis Rodríguez', 'Luis Rodríguez', 'Maria Martínez', 'Marta Suárez', 'María Martínez', 'Miguel Ángel', 'Miguel Ángel', 'Monica Herrera', 'Monica Herrera', 'Patricia Vega', 'Patricia Vega', 'Pedro Gómez', 'Pedro Gómez', 'Pedro Gómez', 'Ricardo Fernández', 'Ricardo Fernández', 'Sandra Morales', 'Sandra Morales']\n"
     ]
    }
   ],
   "source": [
    "clients = [\n",
    " \"  Ana López \", \"Pedro Gómez\", \"maria martínez\", \"Pedro Gómez \", \"\",\n",
    " \" Luis Rodríguez \", None, \"ana lópez\", \"JUAN PÉREZ\", \"MARTA SUÁREZ\",\n",
    " \"luis rodríguez\", \"maría martínez \", \" claudia torres\", \"CLAUDIA TORRES\",\n",
    " \"  \", \"pedro gómez\", \"Juan Pérez\", None, \"Ricardo Fernández\", \"LAURA RAMOS\",\n",
    " \"carlos mendes\", \"RICARDO FERNÁNDEZ  \", \" Laura ramos\", \"CARLOS MENDES\",\n",
    " \"alejandro gonzález\", \" ALEJANDRO GONZÁLEZ  \", \"Patricia Vega\",\n",
    " \"patricia VEGA\", \"Andrés Ocampo\", \"  andrés ocampo\", \"Monica Herrera\",\n",
    " \"MONICA HERRERA  \", \"gabriela ruíz\", \"Gabriela Ruíz\", \"sandra morales\",\n",
    " \"SANDRA MORALES\", \"miguel ángel\", \"Miguel Ángel \", \" Damián Castillo\",\n",
    " \"Damián Castillo  \", None, \"\", \"  \"\n",
    " ]\n",
    "nue=estandarizar(clients)\n",
    "print(nue)\n",
    "print(sorted(clients))"
   ]
  },
  {
   "cell_type": "markdown",
   "metadata": {},
   "source": [
    "Simule varias partidas de un juego de disparos y genere un ranking basado en el puntaje total de cada jugador. Se utilizará el siguiente sistema de puntuación:\n",
    "- Kill: 3 puntos\n",
    "- Asistencia: 1 punto\n",
    "- Muerte: -1 punto\n",
    "\n",
    "Imprima las tablas de resultados luego de la inserción de cada una de las rondas pudiendo ver el progreso en el equipo.\n",
    " Además cada ronda debe tener un MVP (Mejor Jugador del Partido/ronda) basado en su puntuación.\n",
    "  \n",
    "La cantidad de veces que el jugador ha sido MVP también se debe contabilizar Se debe imprimir el total de kills, asistencias, muertes, cantidad de MVP y puntos totales.\n",
    "  \n",
    "La tabla tienen que estar en orden decreciente por los puntos totales."
   ]
  },
  {
   "cell_type": "code",
   "execution_count": null,
   "metadata": {},
   "outputs": [],
   "source": [
    " rounds = [\n",
    " {\n",
    " 'Shadow': {'kills': 2, 'assists': 1, 'deaths': True},\n",
    " 'Blaze': {'kills': 1, 'assists': 0, 'deaths': False},\n",
    " 'Viper': {'kills': 1, 'assists': 2, 'deaths': True},\n",
    " 'Frost': {'kills': 0, 'assists': 1, 'deaths': False},\n",
    " 'Reaper': {'kills': 1, 'assists': 1, 'deaths': False}\n",
    " },\n",
    " {\n",
    " 'Shadow': {'kills': 0, 'assists': 2, 'deaths': False},\n",
    " 'Blaze': {'kills': 2, 'assists': 0, 'deaths': True},\n",
    " 'Viper': {'kills': 1, 'assists': 1, 'deaths': False},\n",
    " 'Frost': {'kills': 2, 'assists': 1, 'deaths': True},\n",
    " 'Reaper': {'kills': 0, 'assists': 1, 'deaths': False}\n",
    " },\n",
    " {\n",
    " 'Shadow': {'kills': 1, 'assists': 0, 'deaths': False},\n",
    " 'Blaze': {'kills': 2, 'assists': 2, 'deaths': True},\n",
    " 'Viper': {'kills': 1, 'assists': 1, 'deaths': True},\n",
    " 'Frost': {'kills': 0, 'assists': 1, 'deaths': False},\n",
    " 'Reaper': {'kills': 1, 'assists': 1, 'deaths': False}\n",
    " },\n",
    " {\n",
    " 'Shadow': {'kills': 2, 'assists': 1, 'deaths': False},\n",
    " 'Blaze': {'kills': 1, 'assists': 0, 'deaths': True},\n",
    " 'Viper': {'kills': 0, 'assists': 2, 'deaths': False},\n",
    " 'Frost': {'kills': 1, 'assists': 1, 'deaths': True},\n",
    " 'Reaper': {'kills': 1, 'assists': 1, 'deaths': False}\n",
    " },\n",
    " {\n",
    " 'Shadow': {'kills': 1, 'assists': 2, 'deaths': True},\n",
    " 'Blaze': {'kills': 0, 'assists': 1, 'deaths': False},\n",
    " 'Viper': {'kills': 2, 'assists': 0, 'deaths': True},\n",
    " 'Frost': {'kills': 1, 'assists': 1, 'deaths': False},\n",
    " 'Reaper': {'kills': 1, 'assists': 1, 'deaths': True}\n",
    " }\n",
    " ]\n"
   ]
  }
 ],
 "metadata": {
  "kernelspec": {
   "display_name": "venv",
   "language": "python",
   "name": "python3"
  },
  "language_info": {
   "codemirror_mode": {
    "name": "ipython",
    "version": 3
   },
   "file_extension": ".py",
   "mimetype": "text/x-python",
   "name": "python",
   "nbconvert_exporter": "python",
   "pygments_lexer": "ipython3",
   "version": "3.12.9"
  }
 },
 "nbformat": 4,
 "nbformat_minor": 2
}
